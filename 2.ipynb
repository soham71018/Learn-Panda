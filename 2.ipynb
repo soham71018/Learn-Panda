{
 "cells": [
  {
   "cell_type": "code",
   "execution_count": null,
   "id": "6362c124",
   "metadata": {},
   "outputs": [
    {
     "data": {
      "text/plain": [
       "0     Espresso\n",
       "1        Latte\n",
       "2     Espresso\n",
       "3        Latte\n",
       "4     Espresso\n",
       "5        Latte\n",
       "6     Espresso\n",
       "7        Latte\n",
       "8     Espresso\n",
       "9        Latte\n",
       "10    Espresso\n",
       "11       Latte\n",
       "12    Espresso\n",
       "13       Latte\n",
       "Name: Coffee Type, dtype: object"
      ]
     },
     "execution_count": 36,
     "metadata": {},
     "output_type": "execute_result"
    }
   ],
   "source": [
    "import pandas as pd\n",
    "#accessing the data\n",
    "coffee = pd.read_csv('coffee.csv')\n",
    "#coffee.tail() #ending datas\n",
    "#coffee.sample(10) #random data  \n",
    "#coffee.loc[:,[\"Day\"]] #what data you want also rows and coloumns using idnex value\n",
    "coffee.at[2,\"Units Sold\"] #single data return\n",
    "coffee[\"Coffee Type\"] #to access direct the specific row"
   ]
  }
 ],
 "metadata": {
  "kernelspec": {
   "display_name": "myenv (3.13.7)",
   "language": "python",
   "name": "python3"
  },
  "language_info": {
   "codemirror_mode": {
    "name": "ipython",
    "version": 3
   },
   "file_extension": ".py",
   "mimetype": "text/x-python",
   "name": "python",
   "nbconvert_exporter": "python",
   "pygments_lexer": "ipython3",
   "version": "3.13.7"
  }
 },
 "nbformat": 4,
 "nbformat_minor": 5
}
